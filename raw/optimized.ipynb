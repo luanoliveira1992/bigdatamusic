{
 "cells": [
  {
   "cell_type": "code",
   "execution_count": 1,
   "metadata": {},
   "outputs": [],
   "source": [
    "import os\n",
    "import librosa\n",
    "import numpy as np\n",
    "import sagemaker_pyspark\n",
    "from pyspark.sql import SparkSession\n",
    "from pyspark.sql.types import StructType, StructField,StringType, FloatType"
   ]
  },
  {
   "cell_type": "code",
   "execution_count": 2,
   "metadata": {},
   "outputs": [],
   "source": [
    "from pyspark import SparkContext, SparkConf\n",
    "from sagemaker_pyspark import classpath_jars\n",
    "from pyspark.sql.functions import create_map, struct\n",
    "from pydub import AudioSegment"
   ]
  },
  {
   "cell_type": "code",
   "execution_count": 3,
   "metadata": {},
   "outputs": [],
   "source": [
    "LANDED = '/home/rlfo/Documents/pessoal/bigdatamusic/landed/'\n",
    "RAW = '/home/rlfo/Documents/pessoal/bigdatamusic/raw/'"
   ]
  },
  {
   "cell_type": "code",
   "execution_count": 4,
   "metadata": {},
   "outputs": [
    {
     "data": {
      "text/plain": [
       "<pyspark.sql.session.SparkSession.Builder at 0x7f28bd361860>"
      ]
     },
     "execution_count": 4,
     "metadata": {},
     "output_type": "execute_result"
    }
   ],
   "source": [
    "classpath = \":\".join(sagemaker_pyspark.classpath_jars())\n",
    "\n",
    "builder = SparkSession.builder.appName(\"MUSIC SPARK\")\n",
    "builder.config(\n",
    "    \"spark.hadoop.mapreduce.fileoutputcommitter.algorithm.version\", \"2\")\n",
    "builder.config(\"spark.speculation\", \"false\")\n",
    "builder.config(\"spark.sql.parquet.compression.codec\", \"gzip\")\n",
    "builder.config(\"spark.debug.maxToStringFields\", \"100\")\n",
    "builder.config(\"spark.driver.extraClassPath\", classpath)\n",
    "builder.config(\"spark.driver.memory\", \"1g\")\n",
    "builder.config(\"spark.driver.cores\", \"1\")\n",
    "builder.config(\"spark.executor-memory\", \"20g\")\n",
    "builder.config(\"spark.executor.cores\", \"4\")\n",
    "\n",
    "\n",
    "builder.master(\"local[*]\")\n"
   ]
  },
  {
   "cell_type": "code",
   "execution_count": 5,
   "metadata": {},
   "outputs": [],
   "source": [
    "def audio_to_wav(file):\n",
    "    dst = file.replace('.mp3',\"\")+\".wav\"\n",
    "    sound = AudioSegment.from_mp3(file)\n",
    "    sound.export(dst, format=\"wav\")\n",
    "    return dst\n",
    "    "
   ]
  },
  {
   "cell_type": "code",
   "execution_count": 6,
   "metadata": {},
   "outputs": [],
   "source": [
    "def extract_important_feature_music(file):\n",
    "    \n",
    "    songname = file.split('/')[::-1][0]\n",
    "    y, sr = librosa.load(file, mono=True, duration=30)\n",
    "    chroma_stft = np.mean(librosa.feature.chroma_stft(y=y, sr=sr))\n",
    "    spec_cent = np.mean(librosa.feature.spectral_centroid(y=y, sr=sr))\n",
    "    spec_bw = np.mean(librosa.feature.spectral_bandwidth(y=y, sr=sr))\n",
    "    rolloff = np.mean(librosa.feature.spectral_rolloff(y=y, sr=sr))\n",
    "    zcr = np.mean(librosa.feature.zero_crossing_rate(y))\n",
    "    \n",
    "    chroma_stft = np.array2string(chroma_stft, precision=4, separator=',',suppress_small=True)\n",
    "    spec_cent = np.array2string(spec_cent, precision=4, separator=',',suppress_small=True)\n",
    "    spec_bw = np.array2string(spec_bw, precision=4, separator=',',suppress_small=True)\n",
    "    rolloff = np.array2string(rolloff, precision=4, separator=',',suppress_small=True)\n",
    "    zcr = np.array2string(zcr, precision=4, separator=',',suppress_small=True)\n",
    "    \n",
    "    \n",
    "    to_append = f'{songname};{chroma_stft};{spec_cent};{spec_bw};{rolloff};{zcr}'    \n",
    "    return to_append\n",
    "        "
   ]
  },
  {
   "cell_type": "code",
   "execution_count": 7,
   "metadata": {},
   "outputs": [],
   "source": [
    "spark = builder.getOrCreate()"
   ]
  },
  {
   "cell_type": "code",
   "execution_count": 8,
   "metadata": {},
   "outputs": [
    {
     "data": {
      "text/plain": [
       "'Stryv - ONEDUO - Illusion (Stryv Remix).wav;0.3036;2104.9923;2081.9164;4229.7994;0.0939'"
      ]
     },
     "execution_count": 8,
     "metadata": {},
     "output_type": "execute_result"
    }
   ],
   "source": [
    "extract_important_feature_music('/home/rlfo/Documents/pessoal/bigdatamusic/landed/Stryv - ONEDUO - Illusion (Stryv Remix).wav')"
   ]
  },
  {
   "cell_type": "code",
   "execution_count": 9,
   "metadata": {},
   "outputs": [],
   "source": [
    "all_music = [f'{LANDED}{file}' for file in os.listdir(LANDED) if '.mp3' in file]"
   ]
  },
  {
   "cell_type": "code",
   "execution_count": 10,
   "metadata": {},
   "outputs": [
    {
     "data": {
      "text/plain": [
       "['/home/rlfo/Documents/pessoal/bigdatamusic/landed/Aux Fox - Ellie Goulding - Flux (Aux Fox Remix).mp3',\n",
       " '/home/rlfo/Documents/pessoal/bigdatamusic/landed/Young Nero - Beyond (Prod. Scott Storch).mp3',\n",
       " '/home/rlfo/Documents/pessoal/bigdatamusic/landed/Stryv - ONEDUO - Illusion (Stryv Remix).mp3',\n",
       " '/home/rlfo/Documents/pessoal/bigdatamusic/landed/wūsh - late nights with you.mp3',\n",
       " '/home/rlfo/Documents/pessoal/bigdatamusic/landed/PRDSEOHNO - OHNO - Lil Mama (prod. Fallen Roses and B Dom).mp3',\n",
       " '/home/rlfo/Documents/pessoal/bigdatamusic/landed/nymano - jazz and rain.mp3',\n",
       " '/home/rlfo/Documents/pessoal/bigdatamusic/landed/HIGH ON MUSIC - Danrell x Småland - Hostage.mp3',\n",
       " '/home/rlfo/Documents/pessoal/bigdatamusic/landed/Flipp Dinero - Leave Me Alone (Prod. by Young Forever x Cast Beats).mp3',\n",
       " '/home/rlfo/Documents/pessoal/bigdatamusic/landed/Cardi B - Money.mp3',\n",
       " '/home/rlfo/Documents/pessoal/bigdatamusic/landed/ZZ - ICY (feat. Thorii).mp3',\n",
       " '/home/rlfo/Documents/pessoal/bigdatamusic/landed/Megan Thee Stallion - Cash Shit feat. DaBaby.mp3',\n",
       " '/home/rlfo/Documents/pessoal/bigdatamusic/landed/Kodak Black - ZEZE (feat. Travis Scott and Offset).mp3']"
      ]
     },
     "execution_count": 10,
     "metadata": {},
     "output_type": "execute_result"
    }
   ],
   "source": [
    "all_music"
   ]
  },
  {
   "cell_type": "code",
   "execution_count": 11,
   "metadata": {},
   "outputs": [],
   "source": [
    "pipe_rdd_csv = spark.sparkContext.parallelize(all_music).map(audio_to_wav).map(extract_important_feature_music)"
   ]
  },
  {
   "cell_type": "code",
   "execution_count": 12,
   "metadata": {},
   "outputs": [
    {
     "data": {
      "text/plain": [
       "PythonRDD[1] at RDD at PythonRDD.scala:52"
      ]
     },
     "execution_count": 12,
     "metadata": {},
     "output_type": "execute_result"
    }
   ],
   "source": [
    "pipe_rdd_csv"
   ]
  },
  {
   "cell_type": "code",
   "execution_count": 13,
   "metadata": {},
   "outputs": [],
   "source": [
    "schema = StructType([StructField('file_name', StringType(), True),\n",
    "                     StructField('chroma', StringType(), True),\n",
    "                     StructField('spec_cent', StringType(), True),\n",
    "                     StructField('spec_bw', StringType(), True),\n",
    "                     StructField('rolloff', StringType(), True),\n",
    "                     StructField('zcr', StringType(), True)])"
   ]
  },
  {
   "cell_type": "code",
   "execution_count": 14,
   "metadata": {},
   "outputs": [
    {
     "name": "stdout",
     "output_type": "stream",
     "text": [
      "+--------------------+------+---------+---------+---------+------+\n",
      "|           file_name|chroma|spec_cent|  spec_bw|  rolloff|   zcr|\n",
      "+--------------------+------+---------+---------+---------+------+\n",
      "|Aux Fox - Ellie G...|0.3115|1243.9466|1475.7774|2472.4184|0.0507|\n",
      "|Young Nero - Beyo...|0.3283|1608.4343|1925.5995|3293.8967|0.0667|\n",
      "+--------------------+------+---------+---------+---------+------+\n",
      "only showing top 2 rows\n",
      "\n"
     ]
    }
   ],
   "source": [
    "pipe_rdd_csv = pipe_rdd_csv.map(lambda x : x.split(\";\"))\n",
    "rdd = spark.createDataFrame(pipe_rdd_csv,schema)\n",
    "rdd.show(2)"
   ]
  },
  {
   "cell_type": "code",
   "execution_count": 15,
   "metadata": {},
   "outputs": [
    {
     "data": {
      "text/plain": [
       "'/home/rlfo/Documents/pessoal/bigdatamusic/raw/'"
      ]
     },
     "execution_count": 15,
     "metadata": {},
     "output_type": "execute_result"
    }
   ],
   "source": [
    "RAW"
   ]
  },
  {
   "cell_type": "code",
   "execution_count": 16,
   "metadata": {},
   "outputs": [],
   "source": [
    "rdd.write.csv(RAW+'features',sep=';',mode='overwrite')\n"
   ]
  },
  {
   "cell_type": "code",
   "execution_count": null,
   "metadata": {},
   "outputs": [],
   "source": []
  }
 ],
 "metadata": {
  "kernelspec": {
   "display_name": "Python 3",
   "language": "python",
   "name": "python3"
  },
  "language_info": {
   "codemirror_mode": {
    "name": "ipython",
    "version": 3
   },
   "file_extension": ".py",
   "mimetype": "text/x-python",
   "name": "python",
   "nbconvert_exporter": "python",
   "pygments_lexer": "ipython3",
   "version": "3.6.7"
  }
 },
 "nbformat": 4,
 "nbformat_minor": 2
}
