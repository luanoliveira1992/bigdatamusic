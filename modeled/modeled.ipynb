{
 "cells": [
  {
   "cell_type": "code",
   "execution_count": 1,
   "metadata": {},
   "outputs": [],
   "source": [
    "#Todos os imports necessários para aplicação.\n",
    "\n",
    "\n",
    "import os\n",
    "import librosa\n",
    "import numpy as np\n",
    "import sagemaker_pyspark\n",
    "from pyspark.sql import SparkSession\n",
    "from pyspark.sql.types import StructType, StructField,StringType, FloatType"
   ]
  },
  {
   "cell_type": "code",
   "execution_count": 2,
   "metadata": {},
   "outputs": [],
   "source": [
    "from pyspark import SparkContext, SparkConf\n",
    "from sagemaker_pyspark import classpath_jars\n",
    "from pyspark.sql.functions import create_map, struct\n",
    "from pydub import AudioSegment\n",
    "from soundscrape.soundscrape import process_soundcloud\n",
    "import speech_recognition as sr"
   ]
  },
  {
   "cell_type": "code",
   "execution_count": 3,
   "metadata": {},
   "outputs": [],
   "source": [
    "MODELED = '/home/rlfo/Documents/pessoal/bigdatamusic/modeled/'\n",
    "RAW = '/home/rlfo/Documents/pessoal/bigdatamusic/raw/'"
   ]
  },
  {
   "cell_type": "code",
   "execution_count": 11,
   "metadata": {},
   "outputs": [
    {
     "data": {
      "text/html": [
       "\n",
       "            <div>\n",
       "                <p><b>SparkSession - in-memory</b></p>\n",
       "                \n",
       "        <div>\n",
       "            <p><b>SparkContext</b></p>\n",
       "\n",
       "            <p><a href=\"http://192.168.95.119:4040\">Spark UI</a></p>\n",
       "\n",
       "            <dl>\n",
       "              <dt>Version</dt>\n",
       "                <dd><code>v2.3.2</code></dd>\n",
       "              <dt>Master</dt>\n",
       "                <dd><code>local[*]</code></dd>\n",
       "              <dt>AppName</dt>\n",
       "                <dd><code>MUSIC SPARK</code></dd>\n",
       "            </dl>\n",
       "        </div>\n",
       "        \n",
       "            </div>\n",
       "        "
      ],
      "text/plain": [
       "<pyspark.sql.session.SparkSession at 0x7f755f800ba8>"
      ]
     },
     "execution_count": 11,
     "metadata": {},
     "output_type": "execute_result"
    }
   ],
   "source": [
    "classpath = \":\".join(sagemaker_pyspark.classpath_jars())\n",
    "\n",
    "builder = SparkSession.builder.appName(\"MUSIC SPARK\")\n",
    "builder.config(\n",
    "    \"spark.hadoop.mapreduce.fileoutputcommitter.algorithm.version\", \"2\")\n",
    "builder.config(\"spark.speculation\", \"false\")\n",
    "builder.config(\"spark.sql.parquet.compression.codec\", \"gzip\")\n",
    "builder.config(\"spark.debug.maxToStringFields\", \"100\")\n",
    "builder.config(\"spark.driver.extraClassPath\", classpath)\n",
    "builder.config(\"spark.driver.memory\", \"1g\")\n",
    "builder.config(\"spark.driver.cores\", \"1\")\n",
    "builder.config(\"spark.executor-memory\", \"20g\")\n",
    "builder.config(\"spark.executor.cores\", \"4\")\n",
    "\n",
    "\n",
    "builder.master(\"master[*]\")\n",
    "\n",
    "spark = builder.getOrCreate()\n",
    "spark\n"
   ]
  },
  {
   "cell_type": "code",
   "execution_count": 5,
   "metadata": {},
   "outputs": [],
   "source": [
    "LANDED = '/home/rlfo/Documents/pessoal/bigdatamusic/landed/'\n",
    "all_file = [f'{LANDED}{path}' for path in os.listdir(LANDED) if '.wav' in path]"
   ]
  },
  {
   "cell_type": "code",
   "execution_count": 6,
   "metadata": {},
   "outputs": [],
   "source": [
    "r = sr.Recognizer()\n",
    "\n",
    "def wav_to_letter(path):\n",
    "    audio_file = sr.AudioFile(path)\n",
    "    with audio_file as source:\n",
    "        songname = path.split('/')[::-1][0]\n",
    "        audio = r.record(source)\n",
    "        text = r.recognize_sphinx(audio)\n",
    "        to_append = f'{songname};{text}'\n",
    "        return to_append            "
   ]
  },
  {
   "cell_type": "code",
   "execution_count": 7,
   "metadata": {},
   "outputs": [],
   "source": [
    "pipe_music = spark.sparkContext.parallelize(all_file).map(wav_to_letter).reduce(lambda x,y: x+'\\n'+y)"
   ]
  },
  {
   "cell_type": "code",
   "execution_count": 8,
   "metadata": {},
   "outputs": [],
   "source": [
    "with open(MODELED+'letters.csv','w') as letters:\n",
    "    letters.write('name;text\\n')\n",
    "    letters.write(pipe_music)"
   ]
  },
  {
   "cell_type": "code",
   "execution_count": null,
   "metadata": {},
   "outputs": [],
   "source": []
  }
 ],
 "metadata": {
  "kernelspec": {
   "display_name": "Python 3",
   "language": "python",
   "name": "python3"
  },
  "language_info": {
   "codemirror_mode": {
    "name": "ipython",
    "version": 3
   },
   "file_extension": ".py",
   "mimetype": "text/x-python",
   "name": "python",
   "nbconvert_exporter": "python",
   "pygments_lexer": "ipython3",
   "version": "3.6.7"
  }
 },
 "nbformat": 4,
 "nbformat_minor": 2
}
